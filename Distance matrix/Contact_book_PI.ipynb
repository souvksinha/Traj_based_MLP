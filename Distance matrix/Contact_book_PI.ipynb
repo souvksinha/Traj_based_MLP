{
 "cells": [
  {
   "cell_type": "markdown",
   "id": "303f2365",
   "metadata": {},
   "source": [
    "### This notebook will calculate contacts within distance cutoff (say 10A) in each frame and record the distances too, and finally obtain a contact matrix. These will be required for the next notebook."
   ]
  },
  {
   "cell_type": "code",
   "execution_count": null,
   "id": "65d3414b",
   "metadata": {},
   "outputs": [],
   "source": [
    "import sys, os\n",
    "import subprocess as sp\n",
    "import numpy as np\n",
    "import warnings\n",
    "warnings.filterwarnings(\"ignore\", category=DeprecationWarning)\n",
    "import matplotlib.pyplot as plt\n",
    "import pandas as pd\n",
    "import seaborn as sb\n",
    "from matplotlib import colors\n",
    "from IPython.display import set_matplotlib_formats\n",
    "%matplotlib inline\n",
    "set_matplotlib_formats('png')\n",
    "plt.figure(figsize=(5,7))\n",
    "import ipywidgets as widgets"
   ]
  },
  {
   "cell_type": "markdown",
   "id": "8b7a6627",
   "metadata": {},
   "source": [
    "## Running VMD\n",
    "### Collect inputs for running  VMD"
   ]
  },
  {
   "cell_type": "markdown",
   "id": "46ff91ca",
   "metadata": {},
   "source": [
    "This section first collect inputs to run VMD job that calculates the contact data. \n",
    "<br>1. Working directory: Directory that contains toppar and trajectory (*.dcd) files. Output will also be written in this directory.\n",
    "<br>2. Name of toppar and dcd files (with extension)\n",
    "<br>3. Two selection between which the contacts will get calculated. If the selctions are same, all intra-selection contacts will be calculated.\n",
    "<br>4. Cutoff in Angstrom for finding contacts\n",
    "<br>5. Location of Required tcl scripts: vmd_contact.tcl, bigdcd.tcl [these files will be copied to the working directory]\n",
    "<br> ** vmd_contact.tct [Adopted from https://www.ks.uiuc.edu/Research/vmd/mailing_list/vmd-l/att-5681/newcontacts.tcl to report inter-residue contacts in each frame of a trajectory]\n",
    "<br> ** bigdcd.tcl [This script by Justin Gullingsrud and Axel Kohlmeyer (https://www.ks.uiuc.edu/Research/vmd/script_library/scripts/bigdcd/) helps analyze large trajectory files using VMD]\n",
    "<br>6. Full path to the vmd executable"
   ]
  },
  {
   "cell_type": "code",
   "execution_count": null,
   "id": "536c2d34",
   "metadata": {
    "scrolled": true
   },
   "outputs": [],
   "source": [
    "class data_input():\n",
    "    def __init__(self, \n",
    "                 pwd = \"/../../../\", \n",
    "                 top = \"*.prmtop or *.psf\", \n",
    "                 dcd = \"*.dcd\",\n",
    "                 sele1 = \"all and noh\",\n",
    "                 sele2 = \"all and noh\",\n",
    "                 cutoff = \"4.5\",\n",
    "                 tcl_loc = \"path to tcl files (bigdcd.tcl and vmd_contact.tcl)\",\n",
    "                 vmd_path = \"full path to vmd executable\"\n",
    "                ):\n",
    "        layout = widgets.Layout(width='auto', height='40px') #set width and height\n",
    "        self.pwd = widgets.Text(description = 'Working Dir:',value = pwd, layout = layout)\n",
    "        self.top = widgets.Text(description = 'Toppar file:',value = top, layout = layout)\n",
    "        self.dcd = widgets.Text(description = 'Traj:',value = dcd, layout = layout) \n",
    "        self.sele1 = widgets.Text(description = 'selection-1:',value = sele1, layout = layout) \n",
    "        self.sele2 = widgets.Text(description = 'selection-2:',value = sele2, layout = layout)\n",
    "        self.cutoff = widgets.Text(description = 'Cutoff (A):',value = cutoff, layout = layout)\n",
    "        self.tcl_loc = widgets.Text(description = 'Tcl path:',value = tcl_loc, layout = layout)\n",
    "        self.vmd_path = widgets.Text(description = 'VMD path:',value = vmd_path, layout = layout)\n",
    "        self.pwd.on_submit(self.handle_submit)\n",
    "        self.top.on_submit(self.handle_submit)\n",
    "        self.dcd.on_submit(self.handle_submit)\n",
    "        self.sele1.on_submit(self.handle_submit)\n",
    "        self.sele2.on_submit(self.handle_submit)\n",
    "        self.cutoff.on_submit(self.handle_submit)\n",
    "        self.tcl_loc.on_submit(self.handle_submit)\n",
    "        self.vmd_path.on_submit(self.handle_submit)\n",
    "        display(self.pwd, self.top, self.dcd, self.sele1, self.sele2, self.cutoff, self.tcl_loc, self.vmd_path)\n",
    "\n",
    "    def handle_submit(self, text):\n",
    "        self.v = text.value\n",
    "        return self.v\n",
    "\n",
    "print(\"After input, press return in any field\")\n",
    "f = data_input()"
   ]
  },
  {
   "cell_type": "markdown",
   "id": "4349ea5c",
   "metadata": {},
   "source": [
    "#### Set path for the tcl files and copy to the working directory . . ."
   ]
  },
  {
   "cell_type": "code",
   "execution_count": null,
   "id": "c78d1e03",
   "metadata": {
    "scrolled": true
   },
   "outputs": [],
   "source": [
    "tcl_files = os.path.join(f.tcl_loc.value, \"*.tcl\")\n",
    "# print(tcl_files)\n",
    "copy = 'cp '+tcl_files+\" \"+f.pwd.value+\".\"\n",
    "# print(copy)\n",
    "sp.run(copy, shell=True)"
   ]
  },
  {
   "cell_type": "markdown",
   "id": "59208fa9",
   "metadata": {},
   "source": [
    "#### Check values of the given inputs . . .\n",
    "If found discrepancy, check cell-2"
   ]
  },
  {
   "cell_type": "code",
   "execution_count": null,
   "id": "c2a12342",
   "metadata": {},
   "outputs": [],
   "source": [
    "print(\"Working Dir:\", f.pwd.value)\n",
    "print(\"toppar file:\", f.top.value)\n",
    "print(\"DCD file:\", f.dcd.value)\n",
    "print(\"Selection 1:\", f.sele1.value)\n",
    "print(\"Selection 2:\", f.sele2.value)\n",
    "print(\"Cutoff distance (Angstrom):\", f.cutoff.value)\n",
    "print(\"List of Content in the working directory\", os.listdir(f.pwd.value))"
   ]
  },
  {
   "cell_type": "markdown",
   "id": "ff07adfa",
   "metadata": {},
   "source": [
    "#### Change to working directory . . .\n",
    "Create the contact_final.tcl with the parsed inputs for calculation of contacts.."
   ]
  },
  {
   "cell_type": "code",
   "execution_count": null,
   "id": "44001427",
   "metadata": {
    "scrolled": true
   },
   "outputs": [],
   "source": [
    "print(\"Current directory:\", os.getcwd())\n",
    "if os.getcwd()+\"/\" != f.pwd.value:\n",
    "    os.chdir(f.pwd.value)\n",
    "    print(\"\\nNow in working directory:\", os.getcwd())\n",
    "else:\n",
    "    print(\"\\nAlready in working directory ....\")\n",
    "sed = 'sed '+'\\\"s/top_file/'+f.top.value+'/g; s/dcd_file/'+f.dcd.value+'/g; s/cutoff_dist/'+f.cutoff.value+'/g; s/selection1/'+f.sele1.value+'/g; s/selection2/'+f.sele2.value+'/g\\\" '+'vmd_contact.tcl >'+' contact_final.tcl'\n",
    "print(sed)\n",
    "sp.run(sed, shell=True)"
   ]
  },
  {
   "cell_type": "markdown",
   "id": "0e4a536b",
   "metadata": {},
   "source": [
    "#### Check for contact_all.dat (output of the VMD run) from any previous run . . . \n",
    "* contact_all.dat: 1 line per contact and frame\n",
    "* format: frame number, contacting residues, minimal distance\n",
    "\n",
    "Delete if exists, otherwise output of the current run will get appended in the previous file.."
   ]
  },
  {
   "cell_type": "code",
   "execution_count": null,
   "id": "edab89bb",
   "metadata": {},
   "outputs": [],
   "source": [
    "if os.path.exists(\"contact_all.dat\"):\n",
    "  copy = 'cp '+\"contact_all.dat\"+\" \"+\"contact_all.bak.dat\"\n",
    "  sp.run(copy, shell=True)\n",
    "  os.remove(\"contact_all.dat\")\n",
    "  print(\"Backup created and deleted contact_all.dat file from previous run ....\\n\")\n",
    "else:\n",
    "  print(\"The file does not exist\\n\")\n",
    "\n",
    "print(\"List of Content in the working directory\", os.listdir(f.pwd.value))"
   ]
  },
  {
   "cell_type": "markdown",
   "id": "2ad45f26",
   "metadata": {},
   "source": [
    "### Run VMD\n",
    "Output: \n",
    "1. contact_all.dat: \n",
    "<br> 1 line per contact per frame \n",
    "<br> Fields: frame number, contacting residues, minimal distance\n",
    "<br> example:\n",
    "<br> Say, if in frame 1, residue 361 (THR) is in contact with residue 363 (ASP) with minimal distance ~3.2 A\n",
    "<br> 1  361  363  3.197465\n",
    "2. Contact-out.log & contact-err.log for stdout & stderr respectively\n",
    "<br>\n",
    "3. During the run, update of contact_all.dat can be checked by running the following command in the shell: \"tail -f contact_all.dat\""
   ]
  },
  {
   "cell_type": "code",
   "execution_count": null,
   "id": "e54b5b25",
   "metadata": {},
   "outputs": [],
   "source": [
    "outlogFile = open(\"Contact-out.log\", \"w\")\n",
    "errlogFile = open(\"Contact-err.log\", \"w\")\n",
    "# p = sp.Popen(['/Applications/VMD_1.9.4a51-x86_64-Rev9.app/Contents/Resources/VMD.app/Contents/MacOS/VMD', '-dispdev', 'none', '-e', 'contact_final.tcl'], stdout=outlogFile, stdin=sp.PIPE, stderr=errlogFile)\n",
    "p = sp.Popen([f.vmd_path.value, '-dispdev', 'none', '-e', 'contact_final.tcl'], stdout=outlogFile, stdin=sp.PIPE, stderr=errlogFile)\n",
    "# p.communicate()\n",
    "p.wait()\n",
    "if p.poll is None:\n",
    "    print(\"VMD still running..\")\n",
    "else:\n",
    "    print(\"Run finished.. check whether the output contact_all.dat is okay\")"
   ]
  },
  {
   "cell_type": "markdown",
   "id": "c0c2a2f1",
   "metadata": {},
   "source": [
    "## Calculate Contact Map\n",
    "### Collect inputs\n",
    "1. Working directoy: Directory that contains contact_all.dat (from VMD run). This directory will also be used as output directory.\n",
    "<br>\n",
    "2. Prefix of the output contact map\n",
    "<br>\n",
    "** Even if desired selection length of 1st group of residue is different than the 2nd group, its best to put the whole residue range (of the complex) for both selection. This is because its more flexible and easier to handle  the contact matrix later to get contact information of selected regions. For e.g., if I need to see contacts between resid 200-400 and resid 700-800, I provide 1 to 1200 for both \"res_range1\" and \"res_range2\" (see following keys) which is basically the total residue range for my whole complex."
   ]
  },
  {
   "cell_type": "code",
   "execution_count": null,
   "id": "3ebc06d4",
   "metadata": {
    "scrolled": false
   },
   "outputs": [],
   "source": [
    "class req_inputs():\n",
    "    def __init__(self, \n",
    "                 pwd1 = \"/../../../\", \n",
    "                 out = \"prefix of output map\",\n",
    "                 res_range1 = \"provide the range of residues from selection1 [e.g. 1 to 1200]\",\n",
    "                 res_range2 = \"provide the range of residues from selection2 [e.g. 1 to 1200]\"\n",
    "                ):\n",
    "        layout = widgets.Layout(width='auto', height='40px') #set width and height\n",
    "        self.pwd1 = widgets.Text(description = 'Working Dir:',value = pwd1, layout = layout)\n",
    "        self.out = widgets.Text(description = 'Outfile prefix:',value = out, layout = layout)\n",
    "        self.res_range1 = widgets.Text(description = 'Res_range1:',value = res_range1, layout = layout)\n",
    "        self.res_range2 = widgets.Text(description = 'Res_range2:',value = res_range2, layout = layout)\n",
    "        self.pwd1.on_submit(self.handle_submit)\n",
    "        self.out.on_submit(self.handle_submit)\n",
    "        self.res_range1.on_submit(self.handle_submit)\n",
    "        self.res_range2.on_submit(self.handle_submit)\n",
    "        display(self.pwd1, self.out, self.res_range1, self.res_range2)\n",
    "\n",
    "    def handle_submit(self, text):\n",
    "        self.v = text.value\n",
    "        return self.v\n",
    "\n",
    "print(\"After input, press return in any field\")\n",
    "g = req_inputs()"
   ]
  },
  {
   "cell_type": "markdown",
   "id": "b53b41fd",
   "metadata": {},
   "source": [
    "### Function to calculate the contact matrix  "
   ]
  },
  {
   "cell_type": "code",
   "execution_count": null,
   "id": "c9e0f104",
   "metadata": {},
   "outputs": [],
   "source": [
    "def save_contact_map(contact_file, res_range1, res_range2, frames, output_file):\n",
    "    f2 = 1\n",
    "    running_contact = np.zeros(shape=(res_range1, res_range2))\n",
    "    t = np.zeros(shape=(res_range1, res_range2))\n",
    "\n",
    "    with open(contact_file, \"r\") as input:\n",
    "        for line in input:\n",
    "            lines = line.split()\n",
    "            f = int(lines[0])\n",
    "            res1 = int(lines[1])\n",
    "            res2 = int(lines[2])\n",
    "                \n",
    "            f1 = f\n",
    "            if f1 == f2:  # Avoid repeating same contacts from same frames\n",
    "                running_contact[res1, res2] = 1\n",
    "                if res_range1 == res_range2:\n",
    "                    running_contact[res2, res1] = 1\n",
    "            else:\n",
    "                t = np.add(t, running_contact)  # Updating after each frame\n",
    "                running_contact = np.zeros(shape=(res_range1, res_range2))\n",
    "                running_contact[res1, res2] = 1\n",
    "                if res_range1 == res_range2:\n",
    "                    running_contact[res2, res1] = 1\n",
    "            f2 = f1\n",
    "\n",
    "    t = np.add(t, running_contact)\n",
    "\n",
    "    contactMat = np.true_divide(t, frames)  # Getting the fraction\n",
    "\n",
    "    if res_range1 == res_range2:\n",
    "        for x in range(res_range1):\n",
    "            contactMat[x, x] = 1  # Same residue contact\n",
    "            for y in range(x, res_range1):\n",
    "                contactMat[x, y] = contactMat[y, x]  # For the lower diagonal\n",
    "\n",
    "    print(\"Saving the map in a tabular format...\\n\")\n",
    "    print(\"Original residue IDs are maintained as provided in the selection....\\n\")\n",
    "\n",
    "    with open(output_file + \".dat\", \"w+\") as fo2:\n",
    "        for i in range(res_range1):\n",
    "            for j in range(res_range2):\n",
    "                if contactMat[i, j] != 0:\n",
    "                    fo2.write(\"%s %s %8.3f\\n\" % (i + int(g.res_range1.value.split()[0]), j + (int(g.res_range2.value.split()[0])), contactMat[i, j]))\n",
    "\n",
    "    print(\"Done Saving.. check the *.dat file\\n\")\n",
    "\n",
    "    print(\"Saving the map in *.npy format...\\n\")\n",
    "    print(\"It's just the matrix, so only indexes for the provided range start from 0\\n\")\n",
    "    print(\"Be careful if you are plotting the matrix directly, you have to change the indexes accordingly..\\n\")\n",
    "\n",
    "    np.save(output_file + \".npy\", contactMat)\n",
    "    print(\"Done Saving..\\n\")\n",
    "\n",
    "    print(\"Printing the contact map...\")\n",
    "    print(contactMat)  # Check cmap\n"
   ]
  },
  {
   "cell_type": "markdown",
   "id": "78402278",
   "metadata": {},
   "source": [
    "### Get frame id and resid pairs for calculation of contact map and get total residues, total frames . . ."
   ]
  },
  {
   "cell_type": "code",
   "execution_count": null,
   "id": "a235fb10",
   "metadata": {},
   "outputs": [],
   "source": [
    "contact = os.path.join(g.pwd1.value, \"contact_all.dat\")\n",
    "res_range1 = len(np.arange(int(g.res_range1.value.split()[0]), int(g.res_range1.value.split()[2])+1))\n",
    "res_range2 = len(np.arange(int(g.res_range2.value.split()[0]), int(g.res_range2.value.split()[2])+1))\n",
    "print(\"Selection-1 length:\",res_range1,\"\\n\", \"Selection-2 length:\", res_range2, \"\\n\")\n",
    "\n",
    "s4 = 'tail -n1 '+contact+' | awk \\'{print $1}\\''\n",
    "frames=int(sp.getoutput(s4)) # Get total frames\n",
    "print('No of frames:',frames)"
   ]
  },
  {
   "cell_type": "markdown",
   "id": "2cb1c6ce",
   "metadata": {},
   "source": [
    "Calculate the contact map from contact data:"
   ]
  },
  {
   "cell_type": "code",
   "execution_count": null,
   "id": "a23c39e8",
   "metadata": {},
   "outputs": [],
   "source": [
    "outfile = os.path.join(g.pwd1.value, g.out.value)\n",
    "\n",
    "# Get the contact map without any exclusion\n",
    "save_contact_map(contact, res_range1, res_range2, frames, outfile)"
   ]
  },
  {
   "cell_type": "code",
   "execution_count": null,
   "id": "ef6c30da",
   "metadata": {},
   "outputs": [],
   "source": [
    "# Renaming the generic output name for feeding into the 2nd notebook\n",
    "! mv contact_all.dat contact_all_tgRNA_HEPN2_20A_sample.dat "
   ]
  }
 ],
 "metadata": {
  "kernelspec": {
   "display_name": "Python 3 (ipykernel)",
   "language": "python",
   "name": "python3"
  },
  "language_info": {
   "codemirror_mode": {
    "name": "ipython",
    "version": 3
   },
   "file_extension": ".py",
   "mimetype": "text/x-python",
   "name": "python",
   "nbconvert_exporter": "python",
   "pygments_lexer": "ipython3",
   "version": "3.9.5"
  }
 },
 "nbformat": 4,
 "nbformat_minor": 5
}
