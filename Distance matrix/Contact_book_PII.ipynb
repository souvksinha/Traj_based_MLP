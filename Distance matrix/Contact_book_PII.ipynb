{
 "cells": [
  {
   "cell_type": "code",
   "execution_count": 1,
   "id": "65d3414b",
   "metadata": {},
   "outputs": [
    {
     "data": {
      "text/plain": [
       "<Figure size 500x700 with 0 Axes>"
      ]
     },
     "metadata": {},
     "output_type": "display_data"
    }
   ],
   "source": [
    "import subprocess as sp\n",
    "import numpy as np\n",
    "import warnings\n",
    "warnings.filterwarnings(\"ignore\", category=DeprecationWarning)\n",
    "import sys, os\n",
    "import signal\n",
    "import matplotlib.pyplot as plt\n",
    "import pandas as pd\n",
    "import seaborn as sb\n",
    "from matplotlib import colors\n",
    "from IPython.display import set_matplotlib_formats\n",
    "%matplotlib inline\n",
    "set_matplotlib_formats('png')\n",
    "plt.figure(figsize=(5,7))\n",
    "import ipywidgets as widgets"
   ]
  },
  {
   "cell_type": "markdown",
   "id": "a3060741",
   "metadata": {},
   "source": [
    "## Get the abservation x feature matrix"
   ]
  },
  {
   "cell_type": "code",
   "execution_count": 14,
   "id": "0d5e0c6a",
   "metadata": {},
   "outputs": [],
   "source": [
    "# print(np.where(np.logical_and(contact_min[:,1] == contact1[1,0], contact_min[:,2] == contact1[1,1])))\n",
    "# print(contact1[1,0], contact1[1,1], contact_min[4679,:])\n",
    "# w = contact_min[np.where(np.logical_and(contact_min[:,1] == contact1[1,0], contact_min[:,2] == contact1[1,1]))]\n",
    "# print(w.shape)"
   ]
  },
  {
   "cell_type": "code",
   "execution_count": null,
   "id": "3d6c7e11",
   "metadata": {},
   "outputs": [],
   "source": [
    "## Input list\n",
    "dcd = \"/full/path/to/*.dcd\" \n",
    "top = \"/full/path/to/*.prmtop\" \n",
    "pwd = \"/full/path/to/working/direcory\" # location contactins contact map, output of Contact_book_PI notebook and will be output location\n",
    "cutoff = 100 # take a large curoff because we want to record all distances for selected pairs\n",
    "tcl_loc = \"/full/path/to/tcl/files\" # location of tcl files\n",
    "number_of_frames = 14900 # frame number in the trajectory\n",
    "outfile = \"tgRNA_HEPN2_dist_feature_1\" # outfile prefix"
   ]
  },
  {
   "cell_type": "code",
   "execution_count": 8,
   "id": "b27a9c37",
   "metadata": {},
   "outputs": [
    {
     "name": "stdout",
     "output_type": "stream",
     "text": [
      "(300, 3)\n"
     ]
    }
   ],
   "source": [
    "# Load the contact map (say, a 10A cutoff and contacts selected from SYS_A), i.e. the contact/features we will be using to get the observation*feature matrix\n",
    "contact = np.loadtxt(os.path.join(pwd, \"crRNA_HEPN2_10A_new\")+\".dat\")\n",
    "print(contact.shape)\n",
    "\n",
    "# Load the distance records of all contacts (in SYS_A/SYS_B) within a chosen cut-off(say 10A/20A).\n",
    "# This will save some time because, otherwise whatever contacts loaded in 'contact' array,\n",
    "# distance has to be calculated for all of them over the whole trajectory. \n",
    "# Instead, we will just fillup the 'feature_mat' array with records from 'contact_min' array,\n",
    "# and whatever missing by frames/ by residues, we will calculate using VMD.\n",
    "contact_min = np.loadtxt(os.path.join(pwd, \"contact_all_tgRNA_HEPN2_20A_sample\")+\".dat\")\n",
    "print(contact_min.shape)"
   ]
  },
  {
   "cell_type": "markdown",
   "id": "56ccb36a",
   "metadata": {},
   "source": [
    " contact array description:\n",
    " <br> contact = ['resid' 'resid' 'freq']\n",
    "<br> contact_min = ['frame' 'resid' 'resid' 'distance']"
   ]
  },
  {
   "cell_type": "code",
   "execution_count": null,
   "id": "a413eab0",
   "metadata": {},
   "outputs": [],
   "source": [
    "import time\n",
    "\n",
    "def contact_distance(contact_min, contact, frame_number, top, dcd, cutoff, pwd, outfile):\n",
    "    start = time.time()\n",
    "    feature_mat =  np.zeros(shape=(number_of_frames,contact.shape[0]))\n",
    "    print(\"shape of feature matrix:\", feature_mat.shape)\n",
    "    for j in range(feature_mat.shape[1]):\n",
    "        \n",
    "# Let's finds out what frames has this contact and then extract distance information from those frames and store that in 'w'\n",
    "# shape of w = number_of_frames_we_already_found_the_contact, number of column in contact_min (i.e. 4)\n",
    "# Then we check whether the number of frames in 'w' and 'total number of frames' same or not\n",
    "# Based on this check, we conditionally fill the feature matrix\n",
    "        w = contact_min[np.logical_and(contact_min[:,1] == contact1[j,0], contact_min[:,2] == contact1[j,1])]\n",
    "        \n",
    "        if (feature_mat.shape[0] - w.shape[0]) == 0:\n",
    "            feature_mat[:,j] = w[:,3]\n",
    "            \n",
    "        elif (feature_mat.shape[0] - w.shape[0]) < (feature_mat.shape[0]*0.01): ## less than 0.01 % of the total frames\n",
    "            a = w[:,0].tolist()\n",
    "            b = np.arange(1, feature_mat.shape[0]+1)\n",
    "            c = []\n",
    "            if b[-1] != a[-1]:\n",
    "                a.append(0)\n",
    "            for i, k in enumerate(b):\n",
    "                if k != int(a[i]):\n",
    "                    c.append(k)\n",
    "                    a.insert(i, 0)\n",
    "            for i in c:\n",
    "                row_n = i-1 ##last row\n",
    "                if i > 11:\n",
    "                    w = np.insert(w,row_n,w[row_n-1,:],axis=0)\n",
    "                    w[row_n,3] = np.sum(w[row_n-10:row_n, 3])/10\n",
    "                    w[row_n,0] = row_n+1\n",
    "                else:\n",
    "                    w = np.insert(w,row_n,w[row_n+1,:],axis=0)\n",
    "                    w[row_n,3] = np.sum(w[row_n+1:row_n+11, 3])/10\n",
    "                    w[row_n,0] = row_n+1\n",
    "            if (feature_mat.shape[0] - w.shape[0]) == 0:\n",
    "                feature_mat[:,j] = w[:,3]\n",
    "\n",
    "# If the difference between the number of frames in 'w' and 'total number of frames' is within a given range,\n",
    "# calculate distance for selected frames only. Decide the range based on your trajectory.\n",
    "# I generally choose the range 0.01% to 90% \n",
    "        elif (((feature_mat.shape[0] - w.shape[0]) > (feature_mat.shape[0]*0.01)) & ((feature_mat.shape[0] - w.shape[0]) < (feature_mat.shape[0]*0.90))):\n",
    "            print((feature_mat.shape[0] - w.shape[0]), \"..listed frames\")\n",
    "            a = w[:,0].tolist()\n",
    "            b = np.arange(1, feature_mat.shape[0]+1)\n",
    "            c = []\n",
    "            if b[-1] != a[-1]:\n",
    "                a.append(0)\n",
    "            for i, k in enumerate(b):\n",
    "                if k != int(a[i]):\n",
    "                    c.append(k)\n",
    "                    a.insert(i, 0)\n",
    "            strlist = ' '.join(str(e) for e in c)\n",
    "            strnew = \"[list \"+strlist+\"]\"\n",
    "            sed = 'sed '+'\\\"s/top_file/'+top+'/g; s/dcd_file/'+dcd+'/g; s/cutoff_dist/'+str(cutoff)+'/g; s/selection1/'+'resid '+str(int(contact1[j,0]))+'/g; s/selection2/'+'resid '+str(int(contact1[j,1]))+'/g\\\" '+'vmd_getDist_selectedFrame.tcl >'+' temp.tcl'\n",
    "            sp.run(sed, shell=True)\n",
    "            sed = 'sed '+'\\\"s/fm/'+strnew+'/g\\\" '+'temp.tcl >'+' contact_getDist_selectedFrame.tcl'\n",
    "            sp.run(sed, shell=True)\n",
    "            if os.path.exists(\"contact_all_temp2.dat\"):\n",
    "                os.remove(\"contact_all_temp2.dat\")\n",
    "            os.system('/software/repo/moleculardynamics/vmd/1.9.3/vmd -dispdev text -eofexit < contact_getDist_selectedFrame.tcl > output2.log')\n",
    "            missing_contact = np.loadtxt(os.path.join(pwd,\"contact_all_temp2.dat\"))\n",
    "            for l, i in enumerate(c):\n",
    "                row_n = i-1 ##last row\n",
    "                if i > 11:\n",
    "                    w = np.insert(w,row_n,w[row_n-1,:],axis=0)\n",
    "                else:\n",
    "                    w = np.insert(w,row_n,w[row_n+1,:],axis=0)\n",
    "                w[row_n,0] = i\n",
    "                if i == int(missing_contact[l,0]):\n",
    "                    w[row_n,3] = missing_contact[l,1]\n",
    "            if (feature_mat.shape[0] - w.shape[0]) == 0:\n",
    "                feature_mat[:,j] = w[:,3]\n",
    "            \n",
    "# If the difference between the number of frames in 'w' and 'total number of frames' is more than 90% (or your choice)\n",
    "# calculate distance for all frames in the trajectory.\n",
    "        else:\n",
    "            print((feature_mat.shape[0] - w.shape[0]), \"..whole dcd\")\n",
    "            sed = 'sed '+'\\\"s/top_file/'+top+'/g; s/dcd_file/'+dcd+'/g; s/cutoff_dist/'+str(cutoff)+'/g; s/selection1/'+'resid '+str(int(contact1[j,0]))+'/g; s/selection2/'+'resid '+str(int(contact1[j,1]))+'/g\\\" '+'vmd_getDist_allframes.tcl >'+' contact_getDist_allframes.tcl'\n",
    "            sp.run(sed, shell=True)\n",
    "            if os.path.exists(\"contact_all_temp.dat\"):\n",
    "                os.remove(\"contact_all_temp.dat\")\n",
    "            os.system('/software/repo/moleculardynamics/vmd/1.9.3/vmd -dispdev text -eofexit < contact_final_selectedContact.tcl > output.log')\n",
    "            os.system('awk \\'{if ($1<14901) print $0}\\' contact_all_temp.dat > temp.dat')\n",
    "            missing_contact = np.loadtxt(os.path.join(pwd,\"temp.dat\"))\n",
    "            feature_mat[:,j] = missing_contact[:,1]\n",
    "    \n",
    "    print(feature_mat.shape)\n",
    "    np.save(os.path.join(pwd, outfile)+\".npy\", feature_mat)\n",
    "    end = time.time()\n",
    "    print((end - start)/60, \"mins\")\n"
   ]
  },
  {
   "cell_type": "code",
   "execution_count": null,
   "id": "f1109f0b",
   "metadata": {},
   "outputs": [],
   "source": [
    "# Usage : For all contacts in the contact map\n",
    "\n",
    "contact_distance(contact_min, contact, number_of_frames, top, dcd, cutoff, pwd, outfile)\n",
    "\n",
    "# Usage : For a subset of contacts in the contact map.\n",
    "contact1 = contact[:300,] # say only top 300 selected contacts\n",
    "contact_distance(contact_min, contact1, number_of_frames, top, dcd, cutoff, pwd, outfile)"
   ]
  }
 ],
 "metadata": {
  "kernelspec": {
   "display_name": "Python 3 (ipykernel)",
   "language": "python",
   "name": "python3"
  },
  "language_info": {
   "codemirror_mode": {
    "name": "ipython",
    "version": 3
   },
   "file_extension": ".py",
   "mimetype": "text/x-python",
   "name": "python",
   "nbconvert_exporter": "python",
   "pygments_lexer": "ipython3",
   "version": "3.9.5"
  }
 },
 "nbformat": 4,
 "nbformat_minor": 5
}
